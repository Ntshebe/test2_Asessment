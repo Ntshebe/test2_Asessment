{
 "cells": [
  {
   "cell_type": "code",
   "execution_count": null,
   "id": "76d4de21-00c7-4af1-8fe1-e05185a2f58c",
   "metadata": {},
   "outputs": [],
   "source": [
    "import pandas as pd\n",
    "\n",
    "df = pd.read_csv(\"C:/Users/Admin/Downloads/bky6-3za5.csv\")\n",
    "def insertion_sort(arr):\n",
    "    for i in range(1, len(arr)):\n",
    "        key = arr[i]\n",
    "        j = i - 1\n",
    "        while j >= 0 and key < arr[j]:\n",
    "            arr[j + 1] = arr[j]\n",
    "            j -= 1\n",
    "        arr[j + 1] = key\n",
    "        units_column = df['structure_count'].tolist()\n",
    "\n",
    "\n",
    "insertion_sort(units_column)\n",
    "\n",
    "df['structure_count'] = units_column"
   ]
  },
  {
   "cell_type": "code",
   "execution_count": null,
   "id": "6994726d-efaa-4eb9-9691-3f59789314dd",
   "metadata": {},
   "outputs": [],
   "source": []
  }
 ],
 "metadata": {
  "kernelspec": {
   "display_name": "Python 3 (ipykernel)",
   "language": "python",
   "name": "python3"
  },
  "language_info": {
   "codemirror_mode": {
    "name": "ipython",
    "version": 3
   },
   "file_extension": ".py",
   "mimetype": "text/x-python",
   "name": "python",
   "nbconvert_exporter": "python",
   "pygments_lexer": "ipython3",
   "version": "3.11.7"
  }
 },
 "nbformat": 4,
 "nbformat_minor": 5
}
